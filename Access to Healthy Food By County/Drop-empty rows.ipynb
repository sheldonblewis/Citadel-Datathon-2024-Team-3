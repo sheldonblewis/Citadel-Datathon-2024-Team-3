{
 "cells": [
  {
   "cell_type": "code",
   "execution_count": 5,
   "id": "1b23a86b-2ce3-4f77-a5b6-229d2f84c633",
   "metadata": {},
   "outputs": [
    {
     "name": "stdout",
     "output_type": "stream",
     "text": [
      "Cleaned data saved successfully for 2020_Limited_Access_to_Healthy_Foods.csv\n",
      "Cleaned data saved successfully for 2017_Limited_Access_to_Healthy_Foods.csv\n",
      "Cleaned data saved successfully for 2018_Limited_Access_to_Healthy_Foods.csv\n",
      "Cleaned data saved successfully for 2023_Limited_Access_to_Healthy_Foods.csv\n",
      "Cleaned data saved successfully for 2014_Limited_Access_to_Healthy_Foods.csv\n",
      "Cleaned data saved successfully for 2024_Limited_Access_to_Healthy_Foods.csv\n",
      "Cleaned data saved successfully for 2016_Limited_Access_to_Healthy_Foods.csv\n",
      "Cleaned data saved successfully for 2021_Limited_Access_to_Healthy_Foods.csv\n",
      "Cleaned data saved successfully for 2019_Limited_Access_to_Healthy_Foods.csv\n",
      "Cleaned data saved successfully for 2015_Limited_Access_to_Healthy_Foods.csv\n",
      "Cleaned data saved successfully for 2022_Limited_Access_to_Healthy_Foods.csv\n",
      "All files processed successfully!\n"
     ]
    }
   ],
   "source": [
    "import os\n",
    "import pandas as pd\n",
    "\n",
    "# Use the current directory\n",
    "directory = '.'  # This refers to the current directory\n",
    "\n",
    "# Iterate over each file in the directory\n",
    "for filename in os.listdir(directory):\n",
    "    # Process only files that end with '.csv'\n",
    "    if filename.endswith('.csv'):\n",
    "        file_path = os.path.join(directory, filename)\n",
    "        \n",
    "        try:\n",
    "            # Attempt to load the data into a pandas DataFrame using UTF-8 encoding\n",
    "            data = pd.read_csv(file_path, encoding='utf-8')\n",
    "        except UnicodeDecodeError:\n",
    "            try:\n",
    "                # If UTF-8 fails, try ISO-8859-1 encoding\n",
    "                data = pd.read_csv(file_path, encoding='ISO-8859-1')\n",
    "            except Exception as e:\n",
    "                print(f\"Skipping file {filename}: {e}\")\n",
    "                continue\n",
    "            \n",
    "        try:\n",
    "            # Drop rows where 'County' is empty\n",
    "            cleaned_data = data.dropna(subset=['County'])\n",
    "            \n",
    "            # Save the cleaned data to a new file with a .csv extension\n",
    "            cleaned_file_path = os.path.join(directory, filename)\n",
    "            cleaned_data.to_csv(cleaned_file_path, index=False)\n",
    "            \n",
    "            print(f\"Cleaned data saved successfully for {filename}\")\n",
    "        except Exception as e:\n",
    "            print(f\"Skipping file {filename}: {e}\")\n",
    "\n",
    "print(\"All files processed successfully!\")\n"
   ]
  },
  {
   "cell_type": "code",
   "execution_count": null,
   "id": "74a8e7f7-f162-484c-8e1a-0efa29569413",
   "metadata": {},
   "outputs": [],
   "source": []
  }
 ],
 "metadata": {
  "kernelspec": {
   "display_name": "Python 3 (ipykernel)",
   "language": "python",
   "name": "python3"
  },
  "language_info": {
   "codemirror_mode": {
    "name": "ipython",
    "version": 3
   },
   "file_extension": ".py",
   "mimetype": "text/x-python",
   "name": "python",
   "nbconvert_exporter": "python",
   "pygments_lexer": "ipython3",
   "version": "3.11.9"
  }
 },
 "nbformat": 4,
 "nbformat_minor": 5
}
