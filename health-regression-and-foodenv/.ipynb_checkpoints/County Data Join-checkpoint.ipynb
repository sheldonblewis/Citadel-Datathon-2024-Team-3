{
 "cells": [
  {
   "cell_type": "code",
   "execution_count": 29,
   "id": "4c95188f-87ef-423f-8a57-adf8cc6ee717",
   "metadata": {},
   "outputs": [],
   "source": [
    "import pandas as pd\n",
    "\n",
    "# Load the data\n",
    "data_2011 = pd.read_csv('2011_CountyData.csv')\n",
    "data_2016 = pd.read_csv('2016_CountyData.csv')\n",
    "\n",
    "def remove_percentage_sign(df):\n",
    "    df.columns = df.columns.str.replace('% ', '')\n",
    "\n",
    "# Remove percentage signs from column names in both data frames\n",
    "remove_percentage_sign(data_2011)\n",
    "remove_percentage_sign(data_2016)\n",
    "\n",
    "data_2016.dropna(how='all', inplace=True)\n",
    "\n",
    "# Ensure FIPS is the key column\n",
    "data_2011['FIPS'] = data_2011['FIPS'].astype(str)\n",
    "data_2016['FIPS'] = data_2016['FIPS'].astype(int).astype(str)\n",
    "\n",
    "# Merge the data on FIPS\n",
    "merged_data = pd.merge(data_2011, data_2016, on='FIPS', suffixes=('_2011', '_2016'))\n",
    "\n",
    "\n"
   ]
  },
  {
   "cell_type": "code",
   "execution_count": 32,
   "id": "10dbc148-38e0-4ad9-b6c6-8560a5f96e3c",
   "metadata": {},
   "outputs": [
    {
     "name": "stdout",
     "output_type": "stream",
     "text": [
      "<class 'pandas.core.frame.DataFrame'>\n",
      "RangeIndex: 3190 entries, 0 to 3189\n",
      "Data columns (total 18 columns):\n",
      " #   Column                   Non-Null Count  Dtype  \n",
      "---  ------                   --------------  -----  \n",
      " 0   FIPS                     3190 non-null   object \n",
      " 1   State                    3190 non-null   object \n",
      " 2   County                   3140 non-null   object \n",
      " 3   Limited Access           0 non-null      float64\n",
      " 4   Diabetes                 3190 non-null   float64\n",
      " 5   Rural                    3189 non-null   float64\n",
      " 6   Household Income         3189 non-null   float64\n",
      " 7   African American         3190 non-null   float64\n",
      " 8   Asian                    3190 non-null   float64\n",
      " 9   Hispanic                 3190 non-null   float64\n",
      " 10  Binge Drinking           2657 non-null   float64\n",
      " 11  Physical Inactivity      3190 non-null   float64\n",
      " 12  Mentally Unhealthy Days  2994 non-null   float64\n",
      " 13  Obese                    3190 non-null   float64\n",
      " 14  Excessive Drinking       2642 non-null   float64\n",
      " 15  PCP Ratio                3190 non-null   object \n",
      " 16  Fair/Poor                2789 non-null   float64\n",
      " 17  Physically Inactive      0 non-null      float64\n",
      "dtypes: float64(14), object(4)\n",
      "memory usage: 448.7+ KB\n"
     ]
    }
   ],
   "source": [
    "data_2011.info()"
   ]
  },
  {
   "cell_type": "code",
   "execution_count": 33,
   "id": "a3d52ebe-3840-4bc6-9796-b02c8195cf7c",
   "metadata": {},
   "outputs": [
    {
     "name": "stdout",
     "output_type": "stream",
     "text": [
      "<class 'pandas.core.frame.DataFrame'>\n",
      "Index: 3192 entries, 0 to 3391\n",
      "Data columns (total 18 columns):\n",
      " #   Column                   Non-Null Count  Dtype  \n",
      "---  ------                   --------------  -----  \n",
      " 0   FIPS                     3192 non-null   object \n",
      " 1   State                    3192 non-null   object \n",
      " 2   County                   3141 non-null   object \n",
      " 3   Limited Access           3192 non-null   float64\n",
      " 4   Diabetic                 3191 non-null   float64\n",
      " 5   Rural                    3192 non-null   float64\n",
      " 6   Household Income         3190 non-null   float64\n",
      " 7   African American         3191 non-null   float64\n",
      " 8   Asian                    3191 non-null   float64\n",
      " 9   Hispanic                 3191 non-null   float64\n",
      " 10  Binge Drinking           0 non-null      float64\n",
      " 11  Physical Inactivity      0 non-null      float64\n",
      " 12  Mentally Unhealthy Days  3191 non-null   float64\n",
      " 13  Obese                    3192 non-null   float64\n",
      " 14  Excessive Drinking       3191 non-null   float64\n",
      " 15  PCP Ratio                3055 non-null   object \n",
      " 16  Fair/Poor                3191 non-null   float64\n",
      " 17  Physically Inactive      3192 non-null   float64\n",
      "dtypes: float64(14), object(4)\n",
      "memory usage: 473.8+ KB\n"
     ]
    }
   ],
   "source": [
    "data_2016.info()"
   ]
  },
  {
   "cell_type": "code",
   "execution_count": 34,
   "id": "241871ec-f889-44ac-b449-e397f701608d",
   "metadata": {},
   "outputs": [
    {
     "data": {
      "text/plain": [
       "Index(['FIPS', 'State_2011', 'County_2011', 'Limited Access_2011', 'Diabetes',\n",
       "       'Rural_2011', 'Household Income_2011', 'African American_2011',\n",
       "       'Asian_2011', 'Hispanic_2011', 'Binge Drinking_2011',\n",
       "       'Physical Inactivity_2011', 'Mentally Unhealthy Days_2011',\n",
       "       'Obese_2011', 'Excessive Drinking_2011', 'PCP Ratio_2011',\n",
       "       'Fair/Poor_2011', 'Physically Inactive_2011', 'State_2016',\n",
       "       'County_2016', 'Limited Access_2016', 'Diabetic', 'Rural_2016',\n",
       "       'Household Income_2016', 'African American_2016', 'Asian_2016',\n",
       "       'Hispanic_2016', 'Binge Drinking_2016', 'Physical Inactivity_2016',\n",
       "       'Mentally Unhealthy Days_2016', 'Obese_2016', 'Excessive Drinking_2016',\n",
       "       'PCP Ratio_2016', 'Fair/Poor_2016', 'Physically Inactive_2016'],\n",
       "      dtype='object')"
      ]
     },
     "execution_count": 34,
     "metadata": {},
     "output_type": "execute_result"
    }
   ],
   "source": [
    "merged_data.columns"
   ]
  },
  {
   "cell_type": "code",
   "execution_count": 35,
   "id": "34e24fad-3594-4bd2-9729-69c70f8cc82e",
   "metadata": {},
   "outputs": [
    {
     "name": "stdout",
     "output_type": "stream",
     "text": [
      "<class 'pandas.core.frame.DataFrame'>\n",
      "RangeIndex: 3190 entries, 0 to 3189\n",
      "Data columns (total 35 columns):\n",
      " #   Column                        Non-Null Count  Dtype  \n",
      "---  ------                        --------------  -----  \n",
      " 0   FIPS                          3190 non-null   object \n",
      " 1   State_2011                    3190 non-null   object \n",
      " 2   County_2011                   3140 non-null   object \n",
      " 3   Limited Access_2011           0 non-null      float64\n",
      " 4   Diabetes                      3190 non-null   float64\n",
      " 5   Rural_2011                    3189 non-null   float64\n",
      " 6   Household Income_2011         3189 non-null   float64\n",
      " 7   African American_2011         3190 non-null   float64\n",
      " 8   Asian_2011                    3190 non-null   float64\n",
      " 9   Hispanic_2011                 3190 non-null   float64\n",
      " 10  Binge Drinking_2011           2657 non-null   float64\n",
      " 11  Physical Inactivity_2011      3190 non-null   float64\n",
      " 12  Mentally Unhealthy Days_2011  2994 non-null   float64\n",
      " 13  Obese_2011                    3190 non-null   float64\n",
      " 14  Excessive Drinking_2011       2642 non-null   float64\n",
      " 15  PCP Ratio_2011                3190 non-null   object \n",
      " 16  Fair/Poor_2011                2789 non-null   float64\n",
      " 17  Physically Inactive_2011      0 non-null      float64\n",
      " 18  State_2016                    3190 non-null   object \n",
      " 19  County_2016                   3140 non-null   object \n",
      " 20  Limited Access_2016           3190 non-null   float64\n",
      " 21  Diabetic                      3189 non-null   float64\n",
      " 22  Rural_2016                    3190 non-null   float64\n",
      " 23  Household Income_2016         3188 non-null   float64\n",
      " 24  African American_2016         3189 non-null   float64\n",
      " 25  Asian_2016                    3189 non-null   float64\n",
      " 26  Hispanic_2016                 3189 non-null   float64\n",
      " 27  Binge Drinking_2016           0 non-null      float64\n",
      " 28  Physical Inactivity_2016      0 non-null      float64\n",
      " 29  Mentally Unhealthy Days_2016  3189 non-null   float64\n",
      " 30  Obese_2016                    3190 non-null   float64\n",
      " 31  Excessive Drinking_2016       3189 non-null   float64\n",
      " 32  PCP Ratio_2016                3053 non-null   object \n",
      " 33  Fair/Poor_2016                3189 non-null   float64\n",
      " 34  Physically Inactive_2016      3190 non-null   float64\n",
      "dtypes: float64(28), object(7)\n",
      "memory usage: 872.4+ KB\n"
     ]
    }
   ],
   "source": [
    "merged_data.info()"
   ]
  },
  {
   "cell_type": "code",
   "execution_count": 36,
   "id": "ac66421c-c233-45eb-800f-8818247883eb",
   "metadata": {},
   "outputs": [],
   "source": [
    "# Calculate changes\n",
    "merged_data['change_rural'] = merged_data['Rural_2016'] - merged_data['Rural_2011']\n",
    "merged_data['change_obese'] = merged_data['Obese_2016'] - merged_data['Obese_2011']\n",
    "merged_data['change_binge_drinking'] = merged_data['Excessive Drinking_2016'] - merged_data['Binge Drinking_2011']\n",
    "merged_data['change_physical_inactivity'] = merged_data['Physically Inactive_2016'] - merged_data['Physical Inactivity_2011']\n",
    "merged_data['change_mentally_unhealthy_days'] = merged_data['Mentally Unhealthy Days_2016'] - merged_data['Mentally Unhealthy Days_2011']\n",
    "merged_data['change_fair_poor_health'] = merged_data['Fair/Poor_2016'] - merged_data['Fair/Poor_2011']\n",
    "merged_data['change_income'] = merged_data['Household Income_2016'] - merged_data['Household Income_2011']\n",
    "\n"
   ]
  },
  {
   "cell_type": "code",
   "execution_count": 38,
   "id": "548f4b81-2c09-41ff-80d8-89b1dc48318b",
   "metadata": {},
   "outputs": [
    {
     "name": "stdout",
     "output_type": "stream",
     "text": [
      "Regression data has been saved to 'regression_data.csv'.\n"
     ]
    }
   ],
   "source": [
    "# Select relevant columns for the regression model\n",
    "regression_data = merged_data[[\n",
    "    'FIPS', 'State_2011', 'County_2011',\n",
    "    'Rural_2011', 'Household Income_2011', 'African American_2011', \n",
    "    'Asian_2011', 'Hispanic_2011', 'Obese_2011', 'PCP Ratio_2011',\n",
    "    'change_rural', 'change_obese', 'change_binge_drinking', \n",
    "    'change_physical_inactivity', 'change_mentally_unhealthy_days',\n",
    "    'change_fair_poor_health'\n",
    "]]\n",
    "\n",
    "# Save the regression data to a CSV file\n",
    "regression_data.to_csv('regression_data.csv', index=False)\n",
    "\n",
    "print(\"Regression data has been saved to 'regression_data.csv'.\")\n"
   ]
  },
  {
   "cell_type": "code",
   "execution_count": 40,
   "id": "408c6652-2ed1-4879-9a76-5b52422e9ca7",
   "metadata": {},
   "outputs": [
    {
     "name": "stdout",
     "output_type": "stream",
     "text": [
      "<class 'pandas.core.frame.DataFrame'>\n",
      "RangeIndex: 3190 entries, 0 to 3189\n",
      "Data columns (total 16 columns):\n",
      " #   Column                          Non-Null Count  Dtype  \n",
      "---  ------                          --------------  -----  \n",
      " 0   FIPS                            3190 non-null   object \n",
      " 1   State_2011                      3190 non-null   object \n",
      " 2   County_2011                     3140 non-null   object \n",
      " 3   Rural_2011                      3189 non-null   float64\n",
      " 4   Household Income_2011           3189 non-null   float64\n",
      " 5   African American_2011           3190 non-null   float64\n",
      " 6   Asian_2011                      3190 non-null   float64\n",
      " 7   Hispanic_2011                   3190 non-null   float64\n",
      " 8   Obese_2011                      3190 non-null   float64\n",
      " 9   PCP Ratio_2011                  3190 non-null   object \n",
      " 10  change_rural                    3189 non-null   float64\n",
      " 11  change_obese                    3190 non-null   float64\n",
      " 12  change_binge_drinking           2657 non-null   float64\n",
      " 13  change_physical_inactivity      3190 non-null   float64\n",
      " 14  change_mentally_unhealthy_days  2994 non-null   float64\n",
      " 15  change_fair_poor_health         2789 non-null   float64\n",
      "dtypes: float64(12), object(4)\n",
      "memory usage: 398.9+ KB\n"
     ]
    }
   ],
   "source": [
    "regression_data.info()"
   ]
  },
  {
   "cell_type": "code",
   "execution_count": null,
   "id": "06936936-b02a-498f-9fae-cc8d149aabbd",
   "metadata": {},
   "outputs": [],
   "source": []
  }
 ],
 "metadata": {
  "kernelspec": {
   "display_name": "Python 3 (ipykernel)",
   "language": "python",
   "name": "python3"
  },
  "language_info": {
   "codemirror_mode": {
    "name": "ipython",
    "version": 3
   },
   "file_extension": ".py",
   "mimetype": "text/x-python",
   "name": "python",
   "nbconvert_exporter": "python",
   "pygments_lexer": "ipython3",
   "version": "3.11.9"
  }
 },
 "nbformat": 4,
 "nbformat_minor": 5
}
